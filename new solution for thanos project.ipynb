{
 "cells": [
  {
   "cell_type": "code",
   "execution_count": 1,
   "id": "e130f0be",
   "metadata": {},
   "outputs": [],
   "source": [
    "import glob"
   ]
  },
  {
   "cell_type": "code",
   "execution_count": 2,
   "id": "638131ef",
   "metadata": {},
   "outputs": [],
   "source": [
    "from random import sample"
   ]
  },
  {
   "cell_type": "code",
   "execution_count": 3,
   "id": "cc31229c",
   "metadata": {},
   "outputs": [],
   "source": [
    "def showdata():\n",
    "    x=input()\n",
    "    for i in glob.glob(x):\n",
    "        print(i)"
   ]
  },
  {
   "cell_type": "code",
   "execution_count": 4,
   "id": "3765ff04",
   "metadata": {},
   "outputs": [
    {
     "name": "stdout",
     "output_type": "stream",
     "text": [
      "F:\\data science\\photos\\*\n",
      "F:\\data science\\photos\\cover006.png\n",
      "F:\\data science\\photos\\cover009.png\n",
      "F:\\data science\\photos\\cover011.png\n",
      "F:\\data science\\photos\\cover014.png\n",
      "F:\\data science\\photos\\cover015.png\n",
      "F:\\data science\\photos\\cover016.png\n",
      "F:\\data science\\photos\\cover018.png\n",
      "F:\\data science\\photos\\cover020.png\n",
      "F:\\data science\\photos\\cover023.png\n",
      "F:\\data science\\photos\\cover024.png\n",
      "F:\\data science\\photos\\cover025.png\n",
      "F:\\data science\\photos\\cover028.png\n",
      "F:\\data science\\photos\\cover030.png\n",
      "F:\\data science\\photos\\cover031.png\n",
      "F:\\data science\\photos\\cover033.png\n",
      "F:\\data science\\photos\\cover039.png\n",
      "F:\\data science\\photos\\cover040.png\n",
      "F:\\data science\\photos\\cover041.png\n",
      "F:\\data science\\photos\\cover043.png\n",
      "F:\\data science\\photos\\cover046.png\n",
      "F:\\data science\\photos\\cover050.png\n",
      "F:\\data science\\photos\\cover555.png\n"
     ]
    }
   ],
   "source": [
    "showdata()"
   ]
  },
  {
   "cell_type": "code",
   "execution_count": 8,
   "id": "77d1dd89",
   "metadata": {},
   "outputs": [],
   "source": [
    "import random"
   ]
  },
  {
   "cell_type": "code",
   "execution_count": 9,
   "id": "c000bd9d",
   "metadata": {},
   "outputs": [],
   "source": [
    "import os"
   ]
  },
  {
   "cell_type": "code",
   "execution_count": 10,
   "id": "701e1530",
   "metadata": {},
   "outputs": [],
   "source": [
    "from os import remove"
   ]
  },
  {
   "cell_type": "code",
   "execution_count": 11,
   "id": "25265ffd",
   "metadata": {},
   "outputs": [
    {
     "name": "stdout",
     "output_type": "stream",
     "text": [
      "F:\\data science\\photos\n"
     ]
    }
   ],
   "source": [
    "path=input()\n",
    "for i in path:  \n",
    "    files = os.listdir(path)\n",
    "    x=list(files)\n",
    "    d= random.sample(x,int(len(x)/12))\n",
    "    for file in d:  \n",
    "        f = os.path.join(path, file)\n",
    "        os.remove(f)"
   ]
  },
  {
   "cell_type": "code",
   "execution_count": 12,
   "id": "71ec6e45",
   "metadata": {},
   "outputs": [
    {
     "name": "stdout",
     "output_type": "stream",
     "text": [
      "F:\\data science\\photos\\*\n",
      "F:\\data science\\photos\\cover006.png\n",
      "F:\\data science\\photos\\cover018.png\n",
      "F:\\data science\\photos\\cover020.png\n",
      "F:\\data science\\photos\\cover024.png\n",
      "F:\\data science\\photos\\cover025.png\n",
      "F:\\data science\\photos\\cover028.png\n",
      "F:\\data science\\photos\\cover030.png\n",
      "F:\\data science\\photos\\cover031.png\n",
      "F:\\data science\\photos\\cover040.png\n",
      "F:\\data science\\photos\\cover041.png\n",
      "F:\\data science\\photos\\cover555.png\n"
     ]
    }
   ],
   "source": [
    "showdata()"
   ]
  },
  {
   "cell_type": "code",
   "execution_count": null,
   "id": "3b7e5813",
   "metadata": {},
   "outputs": [],
   "source": []
  }
 ],
 "metadata": {
  "kernelspec": {
   "display_name": "Python 3 (ipykernel)",
   "language": "python",
   "name": "python3"
  },
  "language_info": {
   "codemirror_mode": {
    "name": "ipython",
    "version": 3
   },
   "file_extension": ".py",
   "mimetype": "text/x-python",
   "name": "python",
   "nbconvert_exporter": "python",
   "pygments_lexer": "ipython3",
   "version": "3.10.8"
  }
 },
 "nbformat": 4,
 "nbformat_minor": 5
}
